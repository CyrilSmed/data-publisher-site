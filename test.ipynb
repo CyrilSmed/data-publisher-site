{
 "cells": [
  {
   "cell_type": "code",
   "execution_count": 1,
   "metadata": {},
   "outputs": [
    {
     "name": "stderr",
     "output_type": "stream",
     "text": [
      "Xref table not zero-indexed. ID numbers for objects will be corrected.\n"
     ]
    }
   ],
   "source": [
    "import openai\n",
    "from api_keys import API_KEY\n",
    "openai.api_key = API_KEY\n",
    "from software_design_lab.topic_model.abstract_extractor import read_first_page, extract_abstract_text\n",
    "doc_path = r'C:\\dev\\Projects\\software-design-lab\\software_design_lab\\frontend\\static\\publications\\16c2a0779db7f1dd.pdf'\n",
    "first_page = read_first_page(doc_path).replace('  ', ' ').replace('\\n', ' ')\n",
    "prompt = 'Extract the full abstract from this publication text:\\n' + first_page\n",
    "abstract = openai.Completion.create(model=\"text-davinci-003\", prompt=prompt, temperature=0, max_tokens=500)"
   ]
  },
  {
   "cell_type": "code",
   "execution_count": 3,
   "metadata": {},
   "outputs": [
    {
     "data": {
      "text/plain": [
       "\"\\n\\nAbstract: The number of publications and the number of citations received have become the most common indicators of scholarly success. In this context, scientific writing increasingly plays an important role in scholars' scientific careers. To understand the relationship between scientific writing and scientific impact, this paper selected 12 variables of linguistic complexity as a proxy for depicting scientific writing. We then analyzed these features from 36,400 full-text Biology articles and 1,797 full-text Psychology articles. These features were compared to the scientific impact of articles, grouped into high, medium, and low categories. The results suggested no practical significant relationship between linguistic complexity and citation strata in either discipline. This suggests that textual complexity plays little role in scientific impact in our data sets.\""
      ]
     },
     "execution_count": 3,
     "metadata": {},
     "output_type": "execute_result"
    }
   ],
   "source": [
    "abstract['choices'][0]['text']"
   ]
  },
  {
   "cell_type": "code",
   "execution_count": null,
   "metadata": {},
   "outputs": [],
   "source": []
  }
 ],
 "metadata": {
  "kernelspec": {
   "display_name": "env",
   "language": "python",
   "name": "python3"
  },
  "language_info": {
   "codemirror_mode": {
    "name": "ipython",
    "version": 3
   },
   "file_extension": ".py",
   "mimetype": "text/x-python",
   "name": "python",
   "nbconvert_exporter": "python",
   "pygments_lexer": "ipython3",
   "version": "3.8.15"
  },
  "orig_nbformat": 4,
  "vscode": {
   "interpreter": {
    "hash": "181312f24059258dc1e1b4c0f0afa6e3fe8c2165f50754275a88f4aeb7c6dbb3"
   }
  }
 },
 "nbformat": 4,
 "nbformat_minor": 2
}
